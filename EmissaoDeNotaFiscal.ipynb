{
 "cells": [
  {
   "cell_type": "code",
   "execution_count": 3,
   "id": "468684a0",
   "metadata": {},
   "outputs": [],
   "source": [
    "from selenium import webdriver\n",
    "from selenium.webdriver.chrome.service import Service\n",
    "from webdriver_manager.chrome import ChromeDriverManager\n",
    "from selenium.webdriver.common.by import By\n",
    "\n",
    "options = webdriver.ChromeOptions()\n",
    "options.add_experimental_option(\"prefs\", {\n",
    "  \"download.default_directory\": r\"C:\\Users\\joaol\\downloads\",\n",
    "  \"download.prompt_for_download\": False,\n",
    "  \"download.directory_upgrade\": True,\n",
    "  \"safebrowsing.enabled\": True\n",
    "})\n",
    "\n",
    "servico = Service(ChromeDriverManager().install())\n",
    "navegador = webdriver.Chrome(service=servico, options=options)"
   ]
  },
  {
   "cell_type": "code",
   "execution_count": 5,
   "id": "24216efe",
   "metadata": {},
   "outputs": [],
   "source": [
    "# entrar na página de login (no nosso caso é login.html)\n",
    "import os\n",
    "\n",
    "caminho = os.getcwd()\n",
    "arquivo = caminho + r\"\\login.html\"\n",
    "navegador.get(arquivo)"
   ]
  },
  {
   "cell_type": "code",
   "execution_count": 10,
   "id": "c9f51510",
   "metadata": {},
   "outputs": [],
   "source": [
    "#Preencher o login  e a senha\n",
    "navegador.find_element(By.XPATH,'/html/body/div/form/input[1]').send_keys('luis@gmail.com')\n",
    "navegador.find_element(By.XPATH,'/html/body/div/form/input[2]').send_keys('12345678')\n",
    "\n",
    "#Clicar no botão e fazer login\n",
    "navegador.find_element(By.TAG_NAME,'button').click()"
   ]
  },
  {
   "cell_type": "code",
   "execution_count": 14,
   "id": "129e641c",
   "metadata": {},
   "outputs": [],
   "source": [
    "navegador.find_element(By.ID,'nome').send_keys('Luis Campos Treinamentos')\n",
    "navegador.find_element(By.NAME,'endereco').send_keys('Rua Cinild Morettt')\n",
    "navegador.find_element(By.NAME,'bairro').send_keys('Vila Olimpia')\n",
    "navegador.find_element(By.NAME,'municipio').send_keys('Lapa')\n",
    "navegador.find_element(By.NAME,'cep').send_keys('0669050')\n",
    "navegador.find_element(By.NAME,'uf').send_keys('RJ')\n",
    "navegador.find_element(By.NAME,'cnpj').send_keys('12345678909')\n",
    "navegador.find_element(By.NAME,'inscricao').send_keys('123123123')\n",
    "texto = '''\n",
    "Valor referente aos serviços de treinamento prestados\n",
    "'''\n",
    "navegador.find_element(By.NAME,'descricao').send_keys(texto)\n",
    "navegador.find_element(By.NAME,'quantidade').send_keys(10)\n",
    "navegador.find_element(By.NAME,'valor_unitario').send_keys(150)\n",
    "navegador.find_element(By.NAME,'total').send_keys(1500)\n",
    "navegador.find_element(By.TAG_NAME,'button').click()\n",
    "\n"
   ]
  }
 ],
 "metadata": {
  "kernelspec": {
   "display_name": "Python 3 (ipykernel)",
   "language": "python",
   "name": "python3"
  },
  "language_info": {
   "codemirror_mode": {
    "name": "ipython",
    "version": 3
   },
   "file_extension": ".py",
   "mimetype": "text/x-python",
   "name": "python",
   "nbconvert_exporter": "python",
   "pygments_lexer": "ipython3",
   "version": "3.11.3"
  }
 },
 "nbformat": 4,
 "nbformat_minor": 5
}
